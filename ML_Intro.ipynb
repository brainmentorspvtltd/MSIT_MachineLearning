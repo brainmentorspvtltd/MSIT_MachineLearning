{
 "cells": [
  {
   "cell_type": "code",
   "execution_count": 2,
   "metadata": {},
   "outputs": [],
   "source": [
    "data = {\n",
    "    \"names\" : [\"Ram\", \"Shyam\", \"Gopal\", \"Anuj\", \"Raman\"],\n",
    "    \"marks\" : [56, 78, 76, 97, 56],\n",
    "    \"grade\" : [\"B\", \"A\", \"A\", \"A+\", \"B\"]\n",
    "}"
   ]
  },
  {
   "cell_type": "code",
   "execution_count": 3,
   "metadata": {},
   "outputs": [],
   "source": [
    "data[\"hobby\"] = [\"cricket\", \"cricket\", \"cricket\", \"cricket\", \"cricket\"]"
   ]
  },
  {
   "cell_type": "code",
   "execution_count": 4,
   "metadata": {},
   "outputs": [
    {
     "data": {
      "text/plain": [
       "{'names': ['Ram', 'Shyam', 'Gopal', 'Anuj', 'Raman'],\n",
       " 'marks': [56, 78, 76, 97, 56],\n",
       " 'grade': ['B', 'A', 'A', 'A+', 'B'],\n",
       " 'hobby': ['cricket', 'cricket', 'cricket', 'cricket', 'cricket']}"
      ]
     },
     "execution_count": 4,
     "metadata": {},
     "output_type": "execute_result"
    }
   ],
   "source": [
    "data"
   ]
  },
  {
   "cell_type": "code",
   "execution_count": 5,
   "metadata": {},
   "outputs": [],
   "source": [
    "import pandas as pd"
   ]
  },
  {
   "cell_type": "code",
   "execution_count": 6,
   "metadata": {},
   "outputs": [
    {
     "data": {
      "text/html": [
       "<div>\n",
       "<style scoped>\n",
       "    .dataframe tbody tr th:only-of-type {\n",
       "        vertical-align: middle;\n",
       "    }\n",
       "\n",
       "    .dataframe tbody tr th {\n",
       "        vertical-align: top;\n",
       "    }\n",
       "\n",
       "    .dataframe thead th {\n",
       "        text-align: right;\n",
       "    }\n",
       "</style>\n",
       "<table border=\"1\" class=\"dataframe\">\n",
       "  <thead>\n",
       "    <tr style=\"text-align: right;\">\n",
       "      <th></th>\n",
       "      <th>names</th>\n",
       "      <th>marks</th>\n",
       "      <th>grade</th>\n",
       "      <th>hobby</th>\n",
       "    </tr>\n",
       "  </thead>\n",
       "  <tbody>\n",
       "    <tr>\n",
       "      <th>0</th>\n",
       "      <td>Ram</td>\n",
       "      <td>56</td>\n",
       "      <td>B</td>\n",
       "      <td>cricket</td>\n",
       "    </tr>\n",
       "    <tr>\n",
       "      <th>1</th>\n",
       "      <td>Shyam</td>\n",
       "      <td>78</td>\n",
       "      <td>A</td>\n",
       "      <td>cricket</td>\n",
       "    </tr>\n",
       "    <tr>\n",
       "      <th>2</th>\n",
       "      <td>Gopal</td>\n",
       "      <td>76</td>\n",
       "      <td>A</td>\n",
       "      <td>cricket</td>\n",
       "    </tr>\n",
       "    <tr>\n",
       "      <th>3</th>\n",
       "      <td>Anuj</td>\n",
       "      <td>97</td>\n",
       "      <td>A+</td>\n",
       "      <td>cricket</td>\n",
       "    </tr>\n",
       "    <tr>\n",
       "      <th>4</th>\n",
       "      <td>Raman</td>\n",
       "      <td>56</td>\n",
       "      <td>B</td>\n",
       "      <td>cricket</td>\n",
       "    </tr>\n",
       "  </tbody>\n",
       "</table>\n",
       "</div>"
      ],
      "text/plain": [
       "   names  marks grade    hobby\n",
       "0    Ram     56     B  cricket\n",
       "1  Shyam     78     A  cricket\n",
       "2  Gopal     76     A  cricket\n",
       "3   Anuj     97    A+  cricket\n",
       "4  Raman     56     B  cricket"
      ]
     },
     "execution_count": 6,
     "metadata": {},
     "output_type": "execute_result"
    }
   ],
   "source": [
    "pd.DataFrame(data)"
   ]
  },
  {
   "cell_type": "raw",
   "metadata": {},
   "source": [
    "Data Science\n",
    "- Data Collection ( Web Crawling ) - bs4 \n",
    "- Data Analysis ( Exploratory Data Analysis ) - numpy + pandas\n",
    "    - Data Cleaning\n",
    "    - Data Mining\n",
    "    - Statistical Analysis\n",
    "    - Data Preprocessing - pandas + sklearn\n",
    "        - Handle missing values\n",
    "        - Feature Scaling ( Normalization / Standardization )\n",
    "        - Label Encoding\n",
    "- Data Visualization - matplotlib / seaborn / bokeh\n",
    "- Predictive Modeling ( Machine Learning ) - sklearn\n",
    "- Optimization\n",
    "- Data Visualization ( show results on graph )"
   ]
  }
 ],
 "metadata": {
  "kernelspec": {
   "display_name": "Python 3",
   "language": "python",
   "name": "python3"
  },
  "language_info": {
   "codemirror_mode": {
    "name": "ipython",
    "version": 3
   },
   "file_extension": ".py",
   "mimetype": "text/x-python",
   "name": "python",
   "nbconvert_exporter": "python",
   "pygments_lexer": "ipython3",
   "version": "3.7.6"
  }
 },
 "nbformat": 4,
 "nbformat_minor": 4
}
