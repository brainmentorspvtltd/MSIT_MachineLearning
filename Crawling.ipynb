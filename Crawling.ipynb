{
 "cells": [
  {
   "cell_type": "raw",
   "metadata": {},
   "source": [
    "bs4 => Crawling\n",
    "urllib.request => to request url\n",
    "\n",
    "- to open url of website\n",
    "- check if we are getting http response\n",
    "- make object of bs4.BeautifulSoup and pass http response to it\n",
    "- it will return html of that page\n",
    "- now you have to find out the tag from where you want to extract data"
   ]
  },
  {
   "cell_type": "code",
   "execution_count": 25,
   "metadata": {},
   "outputs": [],
   "source": [
    "import bs4\n",
    "# import urllib.request as url\n",
    "from urllib.request import *\n",
    "import numpy as np\n",
    "import pandas as pd"
   ]
  },
  {
   "cell_type": "code",
   "execution_count": 2,
   "metadata": {},
   "outputs": [],
   "source": [
    "http = urlopen(\"https://www.usgs.gov/natural-hazards/earthquake-hazards/lists-maps-and-statistics\")"
   ]
  },
  {
   "cell_type": "code",
   "execution_count": 3,
   "metadata": {},
   "outputs": [],
   "source": [
    "page = bs4.BeautifulSoup(http)"
   ]
  },
  {
   "cell_type": "code",
   "execution_count": 4,
   "metadata": {},
   "outputs": [],
   "source": [
    "table = page.find('table')"
   ]
  },
  {
   "cell_type": "code",
   "execution_count": 5,
   "metadata": {},
   "outputs": [],
   "source": [
    "headings = table.find_all('th')"
   ]
  },
  {
   "cell_type": "code",
   "execution_count": 6,
   "metadata": {},
   "outputs": [
    {
     "data": {
      "text/plain": [
       "[<th>Magnitude</th>,\n",
       " <th>2000</th>,\n",
       " <th>2001</th>,\n",
       " <th>2002</th>,\n",
       " <th>2003</th>,\n",
       " <th>2004</th>,\n",
       " <th>2005</th>,\n",
       " <th>2006</th>,\n",
       " <th>2007</th>,\n",
       " <th>2008</th>,\n",
       " <th>2009</th>,\n",
       " <th>2010</th>,\n",
       " <th>2011</th>,\n",
       " <th>2012</th>,\n",
       " <th>2013</th>,\n",
       " <th>2014</th>,\n",
       " <th>2015</th>,\n",
       " <th>2016</th>,\n",
       " <th>2017</th>,\n",
       " <th>2018</th>,\n",
       " <th>2019</th>,\n",
       " <th scope=\"row\">8.0+</th>,\n",
       " <th scope=\"row\">7–7.9</th>,\n",
       " <th scope=\"row\">6–6.9</th>,\n",
       " <th scope=\"row\">5–5.9</th>,\n",
       " <th scope=\"row\">Estimated<br/>Deaths</th>]"
      ]
     },
     "execution_count": 6,
     "metadata": {},
     "output_type": "execute_result"
    }
   ],
   "source": [
    "headings"
   ]
  },
  {
   "cell_type": "code",
   "execution_count": 7,
   "metadata": {},
   "outputs": [],
   "source": [
    "headingsData = []\n",
    "for heading in headings:\n",
    "#     print(heading.text)\n",
    "    headingsData.append(heading.text)"
   ]
  },
  {
   "cell_type": "code",
   "execution_count": 8,
   "metadata": {},
   "outputs": [
    {
     "data": {
      "text/plain": [
       "['Magnitude',\n",
       " '2000',\n",
       " '2001',\n",
       " '2002',\n",
       " '2003',\n",
       " '2004',\n",
       " '2005',\n",
       " '2006',\n",
       " '2007',\n",
       " '2008',\n",
       " '2009',\n",
       " '2010',\n",
       " '2011',\n",
       " '2012',\n",
       " '2013',\n",
       " '2014',\n",
       " '2015',\n",
       " '2016',\n",
       " '2017',\n",
       " '2018',\n",
       " '2019',\n",
       " '8.0+',\n",
       " '7–7.9',\n",
       " '6–6.9',\n",
       " '5–5.9',\n",
       " 'EstimatedDeaths']"
      ]
     },
     "execution_count": 8,
     "metadata": {},
     "output_type": "execute_result"
    }
   ],
   "source": [
    "headingsData"
   ]
  },
  {
   "cell_type": "code",
   "execution_count": 9,
   "metadata": {},
   "outputs": [],
   "source": [
    "del headingsData[0]"
   ]
  },
  {
   "cell_type": "code",
   "execution_count": 10,
   "metadata": {},
   "outputs": [
    {
     "data": {
      "text/plain": [
       "['2000',\n",
       " '2001',\n",
       " '2002',\n",
       " '2003',\n",
       " '2004',\n",
       " '2005',\n",
       " '2006',\n",
       " '2007',\n",
       " '2008',\n",
       " '2009',\n",
       " '2010',\n",
       " '2011',\n",
       " '2012',\n",
       " '2013',\n",
       " '2014',\n",
       " '2015',\n",
       " '2016',\n",
       " '2017',\n",
       " '2018',\n",
       " '2019',\n",
       " '8.0+',\n",
       " '7–7.9',\n",
       " '6–6.9',\n",
       " '5–5.9',\n",
       " 'EstimatedDeaths']"
      ]
     },
     "execution_count": 10,
     "metadata": {},
     "output_type": "execute_result"
    }
   ],
   "source": [
    "headingsData"
   ]
  },
  {
   "cell_type": "code",
   "execution_count": 11,
   "metadata": {},
   "outputs": [],
   "source": [
    "rowHeadings = headingsData[-5:]"
   ]
  },
  {
   "cell_type": "code",
   "execution_count": 12,
   "metadata": {},
   "outputs": [
    {
     "data": {
      "text/plain": [
       "['8.0+', '7–7.9', '6–6.9', '5–5.9', 'EstimatedDeaths']"
      ]
     },
     "execution_count": 12,
     "metadata": {},
     "output_type": "execute_result"
    }
   ],
   "source": [
    "rowHeadings"
   ]
  },
  {
   "cell_type": "code",
   "execution_count": 13,
   "metadata": {},
   "outputs": [],
   "source": [
    "columnHeadings = headingsData[:-5]"
   ]
  },
  {
   "cell_type": "code",
   "execution_count": 14,
   "metadata": {},
   "outputs": [
    {
     "name": "stdout",
     "output_type": "stream",
     "text": [
      "['2000', '2001', '2002', '2003', '2004', '2005', '2006', '2007', '2008', '2009', '2010', '2011', '2012', '2013', '2014', '2015', '2016', '2017', '2018', '2019']\n"
     ]
    }
   ],
   "source": [
    "print(columnHeadings)"
   ]
  },
  {
   "cell_type": "code",
   "execution_count": 15,
   "metadata": {},
   "outputs": [],
   "source": [
    "tdList = table.find_all('td')"
   ]
  },
  {
   "cell_type": "code",
   "execution_count": 16,
   "metadata": {},
   "outputs": [
    {
     "data": {
      "text/plain": [
       "100"
      ]
     },
     "execution_count": 16,
     "metadata": {},
     "output_type": "execute_result"
    }
   ],
   "source": [
    "len(tdList)"
   ]
  },
  {
   "cell_type": "code",
   "execution_count": 17,
   "metadata": {},
   "outputs": [],
   "source": [
    "tdData = []\n",
    "for td in tdList:\n",
    "    tdData.append(td.text)"
   ]
  },
  {
   "cell_type": "code",
   "execution_count": 19,
   "metadata": {},
   "outputs": [
    {
     "name": "stdout",
     "output_type": "stream",
     "text": [
      "['1', '1', '0', '1', '2', '1', '2', '4', '0', '1', '1', '1', '2', '2', '1', '1', '0', '1', '1', '1', '14', '15', '13', '14', '14', '10', '9', '14', '12', '16', '23', '19', '12', '17', '11', '18', '16', '6', '16', '9', '146', '121', '127', '140', '141', '140', '142', '178', '168', '144', '150', '185', '108', '123', '143', '127', '130', '104', '117', '135', '1344', '1224', '1201', '1203', '1515', '1693', '1712', '2074', '1768', '1896', '2209', '2276', '1401', '1453', '1574', '1419', '1550', '1455', '1674', '1492', '231', '21357', '1685', '33819', '298101', '87992', '6605', '708', '88708', '1790', '226050', '21942', '689', '1572', '756', '9624', '1297', '1012', '4535', '244']\n"
     ]
    }
   ],
   "source": [
    "print(tdData)"
   ]
  },
  {
   "cell_type": "code",
   "execution_count": 20,
   "metadata": {},
   "outputs": [],
   "source": [
    "tdArray = np.array(tdData)"
   ]
  },
  {
   "cell_type": "code",
   "execution_count": 21,
   "metadata": {},
   "outputs": [
    {
     "data": {
      "text/plain": [
       "(100,)"
      ]
     },
     "execution_count": 21,
     "metadata": {},
     "output_type": "execute_result"
    }
   ],
   "source": [
    "tdArray.shape"
   ]
  },
  {
   "cell_type": "code",
   "execution_count": 22,
   "metadata": {},
   "outputs": [],
   "source": [
    "tdArray = tdArray.reshape(5,20)"
   ]
  },
  {
   "cell_type": "code",
   "execution_count": 24,
   "metadata": {},
   "outputs": [
    {
     "name": "stdout",
     "output_type": "stream",
     "text": [
      "[['1' '1' '0' '1' '2' '1' '2' '4' '0' '1' '1' '1' '2' '2' '1' '1' '0' '1'\n",
      "  '1' '1']\n",
      " ['14' '15' '13' '14' '14' '10' '9' '14' '12' '16' '23' '19' '12' '17'\n",
      "  '11' '18' '16' '6' '16' '9']\n",
      " ['146' '121' '127' '140' '141' '140' '142' '178' '168' '144' '150' '185'\n",
      "  '108' '123' '143' '127' '130' '104' '117' '135']\n",
      " ['1344' '1224' '1201' '1203' '1515' '1693' '1712' '2074' '1768' '1896'\n",
      "  '2209' '2276' '1401' '1453' '1574' '1419' '1550' '1455' '1674' '1492']\n",
      " ['231' '21357' '1685' '33819' '298101' '87992' '6605' '708' '88708'\n",
      "  '1790' '226050' '21942' '689' '1572' '756' '9624' '1297' '1012' '4535'\n",
      "  '244']]\n"
     ]
    }
   ],
   "source": [
    "print(tdArray)"
   ]
  },
  {
   "cell_type": "code",
   "execution_count": 26,
   "metadata": {},
   "outputs": [],
   "source": [
    "df = pd.DataFrame(tdArray)"
   ]
  },
  {
   "cell_type": "code",
   "execution_count": 28,
   "metadata": {},
   "outputs": [],
   "source": [
    "df.columns = columnHeadings"
   ]
  },
  {
   "cell_type": "code",
   "execution_count": 30,
   "metadata": {},
   "outputs": [],
   "source": [
    "df.index = rowHeadings"
   ]
  },
  {
   "cell_type": "code",
   "execution_count": 31,
   "metadata": {},
   "outputs": [
    {
     "data": {
      "text/html": [
       "<div>\n",
       "<style scoped>\n",
       "    .dataframe tbody tr th:only-of-type {\n",
       "        vertical-align: middle;\n",
       "    }\n",
       "\n",
       "    .dataframe tbody tr th {\n",
       "        vertical-align: top;\n",
       "    }\n",
       "\n",
       "    .dataframe thead th {\n",
       "        text-align: right;\n",
       "    }\n",
       "</style>\n",
       "<table border=\"1\" class=\"dataframe\">\n",
       "  <thead>\n",
       "    <tr style=\"text-align: right;\">\n",
       "      <th></th>\n",
       "      <th>2000</th>\n",
       "      <th>2001</th>\n",
       "      <th>2002</th>\n",
       "      <th>2003</th>\n",
       "      <th>2004</th>\n",
       "      <th>2005</th>\n",
       "      <th>2006</th>\n",
       "      <th>2007</th>\n",
       "      <th>2008</th>\n",
       "      <th>2009</th>\n",
       "      <th>2010</th>\n",
       "      <th>2011</th>\n",
       "      <th>2012</th>\n",
       "      <th>2013</th>\n",
       "      <th>2014</th>\n",
       "      <th>2015</th>\n",
       "      <th>2016</th>\n",
       "      <th>2017</th>\n",
       "      <th>2018</th>\n",
       "      <th>2019</th>\n",
       "    </tr>\n",
       "  </thead>\n",
       "  <tbody>\n",
       "    <tr>\n",
       "      <th>8.0+</th>\n",
       "      <td>1</td>\n",
       "      <td>1</td>\n",
       "      <td>0</td>\n",
       "      <td>1</td>\n",
       "      <td>2</td>\n",
       "      <td>1</td>\n",
       "      <td>2</td>\n",
       "      <td>4</td>\n",
       "      <td>0</td>\n",
       "      <td>1</td>\n",
       "      <td>1</td>\n",
       "      <td>1</td>\n",
       "      <td>2</td>\n",
       "      <td>2</td>\n",
       "      <td>1</td>\n",
       "      <td>1</td>\n",
       "      <td>0</td>\n",
       "      <td>1</td>\n",
       "      <td>1</td>\n",
       "      <td>1</td>\n",
       "    </tr>\n",
       "    <tr>\n",
       "      <th>7–7.9</th>\n",
       "      <td>14</td>\n",
       "      <td>15</td>\n",
       "      <td>13</td>\n",
       "      <td>14</td>\n",
       "      <td>14</td>\n",
       "      <td>10</td>\n",
       "      <td>9</td>\n",
       "      <td>14</td>\n",
       "      <td>12</td>\n",
       "      <td>16</td>\n",
       "      <td>23</td>\n",
       "      <td>19</td>\n",
       "      <td>12</td>\n",
       "      <td>17</td>\n",
       "      <td>11</td>\n",
       "      <td>18</td>\n",
       "      <td>16</td>\n",
       "      <td>6</td>\n",
       "      <td>16</td>\n",
       "      <td>9</td>\n",
       "    </tr>\n",
       "    <tr>\n",
       "      <th>6–6.9</th>\n",
       "      <td>146</td>\n",
       "      <td>121</td>\n",
       "      <td>127</td>\n",
       "      <td>140</td>\n",
       "      <td>141</td>\n",
       "      <td>140</td>\n",
       "      <td>142</td>\n",
       "      <td>178</td>\n",
       "      <td>168</td>\n",
       "      <td>144</td>\n",
       "      <td>150</td>\n",
       "      <td>185</td>\n",
       "      <td>108</td>\n",
       "      <td>123</td>\n",
       "      <td>143</td>\n",
       "      <td>127</td>\n",
       "      <td>130</td>\n",
       "      <td>104</td>\n",
       "      <td>117</td>\n",
       "      <td>135</td>\n",
       "    </tr>\n",
       "    <tr>\n",
       "      <th>5–5.9</th>\n",
       "      <td>1344</td>\n",
       "      <td>1224</td>\n",
       "      <td>1201</td>\n",
       "      <td>1203</td>\n",
       "      <td>1515</td>\n",
       "      <td>1693</td>\n",
       "      <td>1712</td>\n",
       "      <td>2074</td>\n",
       "      <td>1768</td>\n",
       "      <td>1896</td>\n",
       "      <td>2209</td>\n",
       "      <td>2276</td>\n",
       "      <td>1401</td>\n",
       "      <td>1453</td>\n",
       "      <td>1574</td>\n",
       "      <td>1419</td>\n",
       "      <td>1550</td>\n",
       "      <td>1455</td>\n",
       "      <td>1674</td>\n",
       "      <td>1492</td>\n",
       "    </tr>\n",
       "    <tr>\n",
       "      <th>EstimatedDeaths</th>\n",
       "      <td>231</td>\n",
       "      <td>21357</td>\n",
       "      <td>1685</td>\n",
       "      <td>33819</td>\n",
       "      <td>298101</td>\n",
       "      <td>87992</td>\n",
       "      <td>6605</td>\n",
       "      <td>708</td>\n",
       "      <td>88708</td>\n",
       "      <td>1790</td>\n",
       "      <td>226050</td>\n",
       "      <td>21942</td>\n",
       "      <td>689</td>\n",
       "      <td>1572</td>\n",
       "      <td>756</td>\n",
       "      <td>9624</td>\n",
       "      <td>1297</td>\n",
       "      <td>1012</td>\n",
       "      <td>4535</td>\n",
       "      <td>244</td>\n",
       "    </tr>\n",
       "  </tbody>\n",
       "</table>\n",
       "</div>"
      ],
      "text/plain": [
       "                 2000   2001  2002   2003    2004   2005  2006  2007   2008  \\\n",
       "8.0+                1      1     0      1       2      1     2     4      0   \n",
       "7–7.9              14     15    13     14      14     10     9    14     12   \n",
       "6–6.9             146    121   127    140     141    140   142   178    168   \n",
       "5–5.9            1344   1224  1201   1203    1515   1693  1712  2074   1768   \n",
       "EstimatedDeaths   231  21357  1685  33819  298101  87992  6605   708  88708   \n",
       "\n",
       "                 2009    2010   2011  2012  2013  2014  2015  2016  2017  \\\n",
       "8.0+                1       1      1     2     2     1     1     0     1   \n",
       "7–7.9              16      23     19    12    17    11    18    16     6   \n",
       "6–6.9             144     150    185   108   123   143   127   130   104   \n",
       "5–5.9            1896    2209   2276  1401  1453  1574  1419  1550  1455   \n",
       "EstimatedDeaths  1790  226050  21942   689  1572   756  9624  1297  1012   \n",
       "\n",
       "                 2018  2019  \n",
       "8.0+                1     1  \n",
       "7–7.9              16     9  \n",
       "6–6.9             117   135  \n",
       "5–5.9            1674  1492  \n",
       "EstimatedDeaths  4535   244  "
      ]
     },
     "execution_count": 31,
     "metadata": {},
     "output_type": "execute_result"
    }
   ],
   "source": [
    "df"
   ]
  },
  {
   "cell_type": "code",
   "execution_count": 33,
   "metadata": {},
   "outputs": [],
   "source": [
    "df = df.transpose()"
   ]
  },
  {
   "cell_type": "code",
   "execution_count": 34,
   "metadata": {},
   "outputs": [
    {
     "data": {
      "text/html": [
       "<div>\n",
       "<style scoped>\n",
       "    .dataframe tbody tr th:only-of-type {\n",
       "        vertical-align: middle;\n",
       "    }\n",
       "\n",
       "    .dataframe tbody tr th {\n",
       "        vertical-align: top;\n",
       "    }\n",
       "\n",
       "    .dataframe thead th {\n",
       "        text-align: right;\n",
       "    }\n",
       "</style>\n",
       "<table border=\"1\" class=\"dataframe\">\n",
       "  <thead>\n",
       "    <tr style=\"text-align: right;\">\n",
       "      <th></th>\n",
       "      <th>8.0+</th>\n",
       "      <th>7–7.9</th>\n",
       "      <th>6–6.9</th>\n",
       "      <th>5–5.9</th>\n",
       "      <th>EstimatedDeaths</th>\n",
       "    </tr>\n",
       "  </thead>\n",
       "  <tbody>\n",
       "    <tr>\n",
       "      <th>2000</th>\n",
       "      <td>1</td>\n",
       "      <td>14</td>\n",
       "      <td>146</td>\n",
       "      <td>1344</td>\n",
       "      <td>231</td>\n",
       "    </tr>\n",
       "    <tr>\n",
       "      <th>2001</th>\n",
       "      <td>1</td>\n",
       "      <td>15</td>\n",
       "      <td>121</td>\n",
       "      <td>1224</td>\n",
       "      <td>21357</td>\n",
       "    </tr>\n",
       "    <tr>\n",
       "      <th>2002</th>\n",
       "      <td>0</td>\n",
       "      <td>13</td>\n",
       "      <td>127</td>\n",
       "      <td>1201</td>\n",
       "      <td>1685</td>\n",
       "    </tr>\n",
       "    <tr>\n",
       "      <th>2003</th>\n",
       "      <td>1</td>\n",
       "      <td>14</td>\n",
       "      <td>140</td>\n",
       "      <td>1203</td>\n",
       "      <td>33819</td>\n",
       "    </tr>\n",
       "    <tr>\n",
       "      <th>2004</th>\n",
       "      <td>2</td>\n",
       "      <td>14</td>\n",
       "      <td>141</td>\n",
       "      <td>1515</td>\n",
       "      <td>298101</td>\n",
       "    </tr>\n",
       "    <tr>\n",
       "      <th>2005</th>\n",
       "      <td>1</td>\n",
       "      <td>10</td>\n",
       "      <td>140</td>\n",
       "      <td>1693</td>\n",
       "      <td>87992</td>\n",
       "    </tr>\n",
       "    <tr>\n",
       "      <th>2006</th>\n",
       "      <td>2</td>\n",
       "      <td>9</td>\n",
       "      <td>142</td>\n",
       "      <td>1712</td>\n",
       "      <td>6605</td>\n",
       "    </tr>\n",
       "    <tr>\n",
       "      <th>2007</th>\n",
       "      <td>4</td>\n",
       "      <td>14</td>\n",
       "      <td>178</td>\n",
       "      <td>2074</td>\n",
       "      <td>708</td>\n",
       "    </tr>\n",
       "    <tr>\n",
       "      <th>2008</th>\n",
       "      <td>0</td>\n",
       "      <td>12</td>\n",
       "      <td>168</td>\n",
       "      <td>1768</td>\n",
       "      <td>88708</td>\n",
       "    </tr>\n",
       "    <tr>\n",
       "      <th>2009</th>\n",
       "      <td>1</td>\n",
       "      <td>16</td>\n",
       "      <td>144</td>\n",
       "      <td>1896</td>\n",
       "      <td>1790</td>\n",
       "    </tr>\n",
       "    <tr>\n",
       "      <th>2010</th>\n",
       "      <td>1</td>\n",
       "      <td>23</td>\n",
       "      <td>150</td>\n",
       "      <td>2209</td>\n",
       "      <td>226050</td>\n",
       "    </tr>\n",
       "    <tr>\n",
       "      <th>2011</th>\n",
       "      <td>1</td>\n",
       "      <td>19</td>\n",
       "      <td>185</td>\n",
       "      <td>2276</td>\n",
       "      <td>21942</td>\n",
       "    </tr>\n",
       "    <tr>\n",
       "      <th>2012</th>\n",
       "      <td>2</td>\n",
       "      <td>12</td>\n",
       "      <td>108</td>\n",
       "      <td>1401</td>\n",
       "      <td>689</td>\n",
       "    </tr>\n",
       "    <tr>\n",
       "      <th>2013</th>\n",
       "      <td>2</td>\n",
       "      <td>17</td>\n",
       "      <td>123</td>\n",
       "      <td>1453</td>\n",
       "      <td>1572</td>\n",
       "    </tr>\n",
       "    <tr>\n",
       "      <th>2014</th>\n",
       "      <td>1</td>\n",
       "      <td>11</td>\n",
       "      <td>143</td>\n",
       "      <td>1574</td>\n",
       "      <td>756</td>\n",
       "    </tr>\n",
       "    <tr>\n",
       "      <th>2015</th>\n",
       "      <td>1</td>\n",
       "      <td>18</td>\n",
       "      <td>127</td>\n",
       "      <td>1419</td>\n",
       "      <td>9624</td>\n",
       "    </tr>\n",
       "    <tr>\n",
       "      <th>2016</th>\n",
       "      <td>0</td>\n",
       "      <td>16</td>\n",
       "      <td>130</td>\n",
       "      <td>1550</td>\n",
       "      <td>1297</td>\n",
       "    </tr>\n",
       "    <tr>\n",
       "      <th>2017</th>\n",
       "      <td>1</td>\n",
       "      <td>6</td>\n",
       "      <td>104</td>\n",
       "      <td>1455</td>\n",
       "      <td>1012</td>\n",
       "    </tr>\n",
       "    <tr>\n",
       "      <th>2018</th>\n",
       "      <td>1</td>\n",
       "      <td>16</td>\n",
       "      <td>117</td>\n",
       "      <td>1674</td>\n",
       "      <td>4535</td>\n",
       "    </tr>\n",
       "    <tr>\n",
       "      <th>2019</th>\n",
       "      <td>1</td>\n",
       "      <td>9</td>\n",
       "      <td>135</td>\n",
       "      <td>1492</td>\n",
       "      <td>244</td>\n",
       "    </tr>\n",
       "  </tbody>\n",
       "</table>\n",
       "</div>"
      ],
      "text/plain": [
       "     8.0+ 7–7.9 6–6.9 5–5.9 EstimatedDeaths\n",
       "2000    1    14   146  1344             231\n",
       "2001    1    15   121  1224           21357\n",
       "2002    0    13   127  1201            1685\n",
       "2003    1    14   140  1203           33819\n",
       "2004    2    14   141  1515          298101\n",
       "2005    1    10   140  1693           87992\n",
       "2006    2     9   142  1712            6605\n",
       "2007    4    14   178  2074             708\n",
       "2008    0    12   168  1768           88708\n",
       "2009    1    16   144  1896            1790\n",
       "2010    1    23   150  2209          226050\n",
       "2011    1    19   185  2276           21942\n",
       "2012    2    12   108  1401             689\n",
       "2013    2    17   123  1453            1572\n",
       "2014    1    11   143  1574             756\n",
       "2015    1    18   127  1419            9624\n",
       "2016    0    16   130  1550            1297\n",
       "2017    1     6   104  1455            1012\n",
       "2018    1    16   117  1674            4535\n",
       "2019    1     9   135  1492             244"
      ]
     },
     "execution_count": 34,
     "metadata": {},
     "output_type": "execute_result"
    }
   ],
   "source": [
    "df"
   ]
  },
  {
   "cell_type": "code",
   "execution_count": 35,
   "metadata": {},
   "outputs": [
    {
     "data": {
      "text/html": [
       "<div>\n",
       "<style scoped>\n",
       "    .dataframe tbody tr th:only-of-type {\n",
       "        vertical-align: middle;\n",
       "    }\n",
       "\n",
       "    .dataframe tbody tr th {\n",
       "        vertical-align: top;\n",
       "    }\n",
       "\n",
       "    .dataframe thead th {\n",
       "        text-align: right;\n",
       "    }\n",
       "</style>\n",
       "<table border=\"1\" class=\"dataframe\">\n",
       "  <thead>\n",
       "    <tr style=\"text-align: right;\">\n",
       "      <th></th>\n",
       "      <th>8.0+</th>\n",
       "      <th>7–7.9</th>\n",
       "      <th>6–6.9</th>\n",
       "      <th>5–5.9</th>\n",
       "      <th>EstimatedDeaths</th>\n",
       "    </tr>\n",
       "  </thead>\n",
       "  <tbody>\n",
       "    <tr>\n",
       "      <th>2000</th>\n",
       "      <td>1</td>\n",
       "      <td>14</td>\n",
       "      <td>146</td>\n",
       "      <td>1344</td>\n",
       "      <td>231</td>\n",
       "    </tr>\n",
       "    <tr>\n",
       "      <th>2001</th>\n",
       "      <td>1</td>\n",
       "      <td>15</td>\n",
       "      <td>121</td>\n",
       "      <td>1224</td>\n",
       "      <td>21357</td>\n",
       "    </tr>\n",
       "    <tr>\n",
       "      <th>2002</th>\n",
       "      <td>0</td>\n",
       "      <td>13</td>\n",
       "      <td>127</td>\n",
       "      <td>1201</td>\n",
       "      <td>1685</td>\n",
       "    </tr>\n",
       "    <tr>\n",
       "      <th>2003</th>\n",
       "      <td>1</td>\n",
       "      <td>14</td>\n",
       "      <td>140</td>\n",
       "      <td>1203</td>\n",
       "      <td>33819</td>\n",
       "    </tr>\n",
       "    <tr>\n",
       "      <th>2004</th>\n",
       "      <td>2</td>\n",
       "      <td>14</td>\n",
       "      <td>141</td>\n",
       "      <td>1515</td>\n",
       "      <td>298101</td>\n",
       "    </tr>\n",
       "  </tbody>\n",
       "</table>\n",
       "</div>"
      ],
      "text/plain": [
       "     8.0+ 7–7.9 6–6.9 5–5.9 EstimatedDeaths\n",
       "2000    1    14   146  1344             231\n",
       "2001    1    15   121  1224           21357\n",
       "2002    0    13   127  1201            1685\n",
       "2003    1    14   140  1203           33819\n",
       "2004    2    14   141  1515          298101"
      ]
     },
     "execution_count": 35,
     "metadata": {},
     "output_type": "execute_result"
    }
   ],
   "source": [
    "df.head()"
   ]
  },
  {
   "cell_type": "code",
   "execution_count": 36,
   "metadata": {},
   "outputs": [
    {
     "data": {
      "text/html": [
       "<div>\n",
       "<style scoped>\n",
       "    .dataframe tbody tr th:only-of-type {\n",
       "        vertical-align: middle;\n",
       "    }\n",
       "\n",
       "    .dataframe tbody tr th {\n",
       "        vertical-align: top;\n",
       "    }\n",
       "\n",
       "    .dataframe thead th {\n",
       "        text-align: right;\n",
       "    }\n",
       "</style>\n",
       "<table border=\"1\" class=\"dataframe\">\n",
       "  <thead>\n",
       "    <tr style=\"text-align: right;\">\n",
       "      <th></th>\n",
       "      <th>8.0+</th>\n",
       "      <th>7–7.9</th>\n",
       "      <th>6–6.9</th>\n",
       "      <th>5–5.9</th>\n",
       "      <th>EstimatedDeaths</th>\n",
       "    </tr>\n",
       "  </thead>\n",
       "  <tbody>\n",
       "    <tr>\n",
       "      <th>2015</th>\n",
       "      <td>1</td>\n",
       "      <td>18</td>\n",
       "      <td>127</td>\n",
       "      <td>1419</td>\n",
       "      <td>9624</td>\n",
       "    </tr>\n",
       "    <tr>\n",
       "      <th>2016</th>\n",
       "      <td>0</td>\n",
       "      <td>16</td>\n",
       "      <td>130</td>\n",
       "      <td>1550</td>\n",
       "      <td>1297</td>\n",
       "    </tr>\n",
       "    <tr>\n",
       "      <th>2017</th>\n",
       "      <td>1</td>\n",
       "      <td>6</td>\n",
       "      <td>104</td>\n",
       "      <td>1455</td>\n",
       "      <td>1012</td>\n",
       "    </tr>\n",
       "    <tr>\n",
       "      <th>2018</th>\n",
       "      <td>1</td>\n",
       "      <td>16</td>\n",
       "      <td>117</td>\n",
       "      <td>1674</td>\n",
       "      <td>4535</td>\n",
       "    </tr>\n",
       "    <tr>\n",
       "      <th>2019</th>\n",
       "      <td>1</td>\n",
       "      <td>9</td>\n",
       "      <td>135</td>\n",
       "      <td>1492</td>\n",
       "      <td>244</td>\n",
       "    </tr>\n",
       "  </tbody>\n",
       "</table>\n",
       "</div>"
      ],
      "text/plain": [
       "     8.0+ 7–7.9 6–6.9 5–5.9 EstimatedDeaths\n",
       "2015    1    18   127  1419            9624\n",
       "2016    0    16   130  1550            1297\n",
       "2017    1     6   104  1455            1012\n",
       "2018    1    16   117  1674            4535\n",
       "2019    1     9   135  1492             244"
      ]
     },
     "execution_count": 36,
     "metadata": {},
     "output_type": "execute_result"
    }
   ],
   "source": [
    "df.tail()"
   ]
  },
  {
   "cell_type": "code",
   "execution_count": null,
   "metadata": {},
   "outputs": [],
   "source": []
  }
 ],
 "metadata": {
  "kernelspec": {
   "display_name": "Python 3",
   "language": "python",
   "name": "python3"
  },
  "language_info": {
   "codemirror_mode": {
    "name": "ipython",
    "version": 3
   },
   "file_extension": ".py",
   "mimetype": "text/x-python",
   "name": "python",
   "nbconvert_exporter": "python",
   "pygments_lexer": "ipython3",
   "version": "3.7.6"
  }
 },
 "nbformat": 4,
 "nbformat_minor": 4
}
